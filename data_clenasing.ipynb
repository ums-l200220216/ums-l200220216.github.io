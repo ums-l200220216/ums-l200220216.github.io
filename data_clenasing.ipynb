{
 "cells": [
  {
   "cell_type": "code",
   "execution_count": 3,
   "id": "76f36eb2-ea4b-4f9f-ad92-65018c524060",
   "metadata": {},
   "outputs": [
    {
     "name": "stdout",
     "output_type": "stream",
     "text": [
      "Data cleaned and saved to data_group_cleaned.csv\n"
     ]
    },
    {
     "name": "stderr",
     "output_type": "stream",
     "text": [
      "C:\\Users\\user\\AppData\\Local\\Temp\\ipykernel_8156\\2406745599.py:16: FutureWarning: DataFrame.applymap has been deprecated. Use DataFrame.map instead.\n",
      "  data_cleaned = data.applymap(clean_text)\n"
     ]
    }
   ],
   "source": [
    "import pandas as pd\n",
    "import re\n",
    "\n",
    "# Fungsi untuk membersihkan teks\n",
    "def clean_text(text):\n",
    "    if isinstance(text, str):\n",
    "        # Hanya mempertahankan angka, huruf, dan tanda baca-tulis umum\n",
    "        return re.sub(r'[^a-zA-Z0-9.,:;!?()\\-\"\\'\"\\\" ]', '', text)\n",
    "    return text\n",
    "\n",
    "# Baca file CSV\n",
    "file_path = 'data_group.csv'\n",
    "data = pd.read_csv(file_path, sep=';')\n",
    "\n",
    "# Bersihkan setiap elemen dalam DataFrame\n",
    "data_cleaned = data.applymap(clean_text)\n",
    "\n",
    "# Simpan hasil ke file baru\n",
    "output_path = 'data_group_cleaned.csv'  # Simpan di direktori kerja saat ini\n",
    "data_cleaned.to_csv(output_path, index=False)\n",
    "print(f\"Data cleaned and saved to {output_path}\")\n"
   ]
  },
  {
   "cell_type": "code",
   "execution_count": null,
   "id": "910c77c4-ac81-4989-87bf-8b73fa882ced",
   "metadata": {},
   "outputs": [],
   "source": []
  }
 ],
 "metadata": {
  "kernelspec": {
   "display_name": "Python 3 (ipykernel)",
   "language": "python",
   "name": "python3"
  },
  "language_info": {
   "codemirror_mode": {
    "name": "ipython",
    "version": 3
   },
   "file_extension": ".py",
   "mimetype": "text/x-python",
   "name": "python",
   "nbconvert_exporter": "python",
   "pygments_lexer": "ipython3",
   "version": "3.11.3"
  }
 },
 "nbformat": 4,
 "nbformat_minor": 5
}
